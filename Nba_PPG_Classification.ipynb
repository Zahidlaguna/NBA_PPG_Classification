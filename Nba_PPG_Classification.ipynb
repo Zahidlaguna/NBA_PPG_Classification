{
 "cells": [
  {
   "cell_type": "code",
   "execution_count": 13,
   "metadata": {},
   "outputs": [],
   "source": [
    "import pandas as pd \n",
    "import numpy as np \n",
    "from sklearn.linear_model import SGDClassifier\n",
    "import matplotlib.pyplot as plt\n",
    "from sklearn.linear_model import LogisticRegression\n",
    "from sklearn.model_selection import train_test_split"
   ]
  },
  {
   "cell_type": "code",
   "execution_count": 14,
   "metadata": {},
   "outputs": [
    {
     "data": {
      "text/html": [
       "<div>\n",
       "<style scoped>\n",
       "    .dataframe tbody tr th:only-of-type {\n",
       "        vertical-align: middle;\n",
       "    }\n",
       "\n",
       "    .dataframe tbody tr th {\n",
       "        vertical-align: top;\n",
       "    }\n",
       "\n",
       "    .dataframe thead th {\n",
       "        text-align: right;\n",
       "    }\n",
       "</style>\n",
       "<table border=\"1\" class=\"dataframe\">\n",
       "  <thead>\n",
       "    <tr style=\"text-align: right;\">\n",
       "      <th></th>\n",
       "      <th>Rk</th>\n",
       "      <th>Player</th>\n",
       "      <th>Pos</th>\n",
       "      <th>Age</th>\n",
       "      <th>Tm</th>\n",
       "      <th>G</th>\n",
       "      <th>GS</th>\n",
       "      <th>MP</th>\n",
       "      <th>FG</th>\n",
       "      <th>FGA</th>\n",
       "      <th>...</th>\n",
       "      <th>FT%</th>\n",
       "      <th>ORB</th>\n",
       "      <th>DRB</th>\n",
       "      <th>TRB</th>\n",
       "      <th>AST</th>\n",
       "      <th>STL</th>\n",
       "      <th>BLK</th>\n",
       "      <th>TOV</th>\n",
       "      <th>PF</th>\n",
       "      <th>PTS</th>\n",
       "    </tr>\n",
       "  </thead>\n",
       "  <tbody>\n",
       "    <tr>\n",
       "      <th>0</th>\n",
       "      <td>1</td>\n",
       "      <td>Precious Achiuwa</td>\n",
       "      <td>C</td>\n",
       "      <td>23</td>\n",
       "      <td>TOR</td>\n",
       "      <td>55</td>\n",
       "      <td>12</td>\n",
       "      <td>20.7</td>\n",
       "      <td>3.6</td>\n",
       "      <td>7.3</td>\n",
       "      <td>...</td>\n",
       "      <td>0.702</td>\n",
       "      <td>1.8</td>\n",
       "      <td>4.1</td>\n",
       "      <td>6.0</td>\n",
       "      <td>0.9</td>\n",
       "      <td>0.6</td>\n",
       "      <td>0.5</td>\n",
       "      <td>1.1</td>\n",
       "      <td>1.9</td>\n",
       "      <td>9.2</td>\n",
       "    </tr>\n",
       "    <tr>\n",
       "      <th>1</th>\n",
       "      <td>2</td>\n",
       "      <td>Steven Adams</td>\n",
       "      <td>C</td>\n",
       "      <td>29</td>\n",
       "      <td>MEM</td>\n",
       "      <td>42</td>\n",
       "      <td>42</td>\n",
       "      <td>27.0</td>\n",
       "      <td>3.7</td>\n",
       "      <td>6.3</td>\n",
       "      <td>...</td>\n",
       "      <td>0.364</td>\n",
       "      <td>5.1</td>\n",
       "      <td>6.5</td>\n",
       "      <td>11.5</td>\n",
       "      <td>2.3</td>\n",
       "      <td>0.9</td>\n",
       "      <td>1.1</td>\n",
       "      <td>1.9</td>\n",
       "      <td>2.3</td>\n",
       "      <td>8.6</td>\n",
       "    </tr>\n",
       "    <tr>\n",
       "      <th>2</th>\n",
       "      <td>3</td>\n",
       "      <td>Bam Adebayo</td>\n",
       "      <td>C</td>\n",
       "      <td>25</td>\n",
       "      <td>MIA</td>\n",
       "      <td>75</td>\n",
       "      <td>75</td>\n",
       "      <td>34.6</td>\n",
       "      <td>8.0</td>\n",
       "      <td>14.9</td>\n",
       "      <td>...</td>\n",
       "      <td>0.806</td>\n",
       "      <td>2.5</td>\n",
       "      <td>6.7</td>\n",
       "      <td>9.2</td>\n",
       "      <td>3.2</td>\n",
       "      <td>1.2</td>\n",
       "      <td>0.8</td>\n",
       "      <td>2.5</td>\n",
       "      <td>2.8</td>\n",
       "      <td>20.4</td>\n",
       "    </tr>\n",
       "    <tr>\n",
       "      <th>3</th>\n",
       "      <td>4</td>\n",
       "      <td>Ochai Agbaji</td>\n",
       "      <td>SG</td>\n",
       "      <td>22</td>\n",
       "      <td>UTA</td>\n",
       "      <td>59</td>\n",
       "      <td>22</td>\n",
       "      <td>20.5</td>\n",
       "      <td>2.8</td>\n",
       "      <td>6.5</td>\n",
       "      <td>...</td>\n",
       "      <td>0.812</td>\n",
       "      <td>0.7</td>\n",
       "      <td>1.3</td>\n",
       "      <td>2.1</td>\n",
       "      <td>1.1</td>\n",
       "      <td>0.3</td>\n",
       "      <td>0.3</td>\n",
       "      <td>0.7</td>\n",
       "      <td>1.7</td>\n",
       "      <td>7.9</td>\n",
       "    </tr>\n",
       "    <tr>\n",
       "      <th>4</th>\n",
       "      <td>5</td>\n",
       "      <td>Santi Aldama</td>\n",
       "      <td>PF</td>\n",
       "      <td>22</td>\n",
       "      <td>MEM</td>\n",
       "      <td>77</td>\n",
       "      <td>20</td>\n",
       "      <td>21.8</td>\n",
       "      <td>3.2</td>\n",
       "      <td>6.8</td>\n",
       "      <td>...</td>\n",
       "      <td>0.750</td>\n",
       "      <td>1.1</td>\n",
       "      <td>3.7</td>\n",
       "      <td>4.8</td>\n",
       "      <td>1.3</td>\n",
       "      <td>0.6</td>\n",
       "      <td>0.6</td>\n",
       "      <td>0.8</td>\n",
       "      <td>1.9</td>\n",
       "      <td>9.0</td>\n",
       "    </tr>\n",
       "    <tr>\n",
       "      <th>...</th>\n",
       "      <td>...</td>\n",
       "      <td>...</td>\n",
       "      <td>...</td>\n",
       "      <td>...</td>\n",
       "      <td>...</td>\n",
       "      <td>...</td>\n",
       "      <td>...</td>\n",
       "      <td>...</td>\n",
       "      <td>...</td>\n",
       "      <td>...</td>\n",
       "      <td>...</td>\n",
       "      <td>...</td>\n",
       "      <td>...</td>\n",
       "      <td>...</td>\n",
       "      <td>...</td>\n",
       "      <td>...</td>\n",
       "      <td>...</td>\n",
       "      <td>...</td>\n",
       "      <td>...</td>\n",
       "      <td>...</td>\n",
       "      <td>...</td>\n",
       "    </tr>\n",
       "    <tr>\n",
       "      <th>674</th>\n",
       "      <td>535</td>\n",
       "      <td>Thaddeus Young</td>\n",
       "      <td>PF</td>\n",
       "      <td>34</td>\n",
       "      <td>TOR</td>\n",
       "      <td>54</td>\n",
       "      <td>9</td>\n",
       "      <td>14.7</td>\n",
       "      <td>2.0</td>\n",
       "      <td>3.7</td>\n",
       "      <td>...</td>\n",
       "      <td>0.692</td>\n",
       "      <td>1.3</td>\n",
       "      <td>1.8</td>\n",
       "      <td>3.1</td>\n",
       "      <td>1.4</td>\n",
       "      <td>1.0</td>\n",
       "      <td>0.1</td>\n",
       "      <td>0.8</td>\n",
       "      <td>1.6</td>\n",
       "      <td>4.4</td>\n",
       "    </tr>\n",
       "    <tr>\n",
       "      <th>675</th>\n",
       "      <td>536</td>\n",
       "      <td>Trae Young</td>\n",
       "      <td>PG</td>\n",
       "      <td>24</td>\n",
       "      <td>ATL</td>\n",
       "      <td>73</td>\n",
       "      <td>73</td>\n",
       "      <td>34.8</td>\n",
       "      <td>8.2</td>\n",
       "      <td>19.0</td>\n",
       "      <td>...</td>\n",
       "      <td>0.886</td>\n",
       "      <td>0.8</td>\n",
       "      <td>2.2</td>\n",
       "      <td>3.0</td>\n",
       "      <td>10.2</td>\n",
       "      <td>1.1</td>\n",
       "      <td>0.1</td>\n",
       "      <td>4.1</td>\n",
       "      <td>1.4</td>\n",
       "      <td>26.2</td>\n",
       "    </tr>\n",
       "    <tr>\n",
       "      <th>676</th>\n",
       "      <td>537</td>\n",
       "      <td>Omer Yurtseven</td>\n",
       "      <td>C</td>\n",
       "      <td>24</td>\n",
       "      <td>MIA</td>\n",
       "      <td>9</td>\n",
       "      <td>0</td>\n",
       "      <td>9.2</td>\n",
       "      <td>1.8</td>\n",
       "      <td>3.0</td>\n",
       "      <td>...</td>\n",
       "      <td>0.833</td>\n",
       "      <td>0.9</td>\n",
       "      <td>1.7</td>\n",
       "      <td>2.6</td>\n",
       "      <td>0.2</td>\n",
       "      <td>0.2</td>\n",
       "      <td>0.2</td>\n",
       "      <td>0.4</td>\n",
       "      <td>1.8</td>\n",
       "      <td>4.4</td>\n",
       "    </tr>\n",
       "    <tr>\n",
       "      <th>677</th>\n",
       "      <td>538</td>\n",
       "      <td>Cody Zeller</td>\n",
       "      <td>C</td>\n",
       "      <td>30</td>\n",
       "      <td>MIA</td>\n",
       "      <td>15</td>\n",
       "      <td>2</td>\n",
       "      <td>14.5</td>\n",
       "      <td>2.5</td>\n",
       "      <td>3.9</td>\n",
       "      <td>...</td>\n",
       "      <td>0.686</td>\n",
       "      <td>1.7</td>\n",
       "      <td>2.6</td>\n",
       "      <td>4.3</td>\n",
       "      <td>0.7</td>\n",
       "      <td>0.2</td>\n",
       "      <td>0.3</td>\n",
       "      <td>0.9</td>\n",
       "      <td>2.2</td>\n",
       "      <td>6.5</td>\n",
       "    </tr>\n",
       "    <tr>\n",
       "      <th>678</th>\n",
       "      <td>539</td>\n",
       "      <td>Ivica Zubac</td>\n",
       "      <td>C</td>\n",
       "      <td>25</td>\n",
       "      <td>LAC</td>\n",
       "      <td>76</td>\n",
       "      <td>76</td>\n",
       "      <td>28.6</td>\n",
       "      <td>4.3</td>\n",
       "      <td>6.8</td>\n",
       "      <td>...</td>\n",
       "      <td>0.697</td>\n",
       "      <td>3.1</td>\n",
       "      <td>6.8</td>\n",
       "      <td>9.9</td>\n",
       "      <td>1.0</td>\n",
       "      <td>0.4</td>\n",
       "      <td>1.3</td>\n",
       "      <td>1.5</td>\n",
       "      <td>2.9</td>\n",
       "      <td>10.8</td>\n",
       "    </tr>\n",
       "  </tbody>\n",
       "</table>\n",
       "<p>679 rows × 30 columns</p>\n",
       "</div>"
      ],
      "text/plain": [
       "      Rk            Player Pos  Age   Tm   G  GS    MP   FG   FGA  ...    FT%  \\\n",
       "0      1  Precious Achiuwa   C   23  TOR  55  12  20.7  3.6   7.3  ...  0.702   \n",
       "1      2      Steven Adams   C   29  MEM  42  42  27.0  3.7   6.3  ...  0.364   \n",
       "2      3       Bam Adebayo   C   25  MIA  75  75  34.6  8.0  14.9  ...  0.806   \n",
       "3      4      Ochai Agbaji  SG   22  UTA  59  22  20.5  2.8   6.5  ...  0.812   \n",
       "4      5      Santi Aldama  PF   22  MEM  77  20  21.8  3.2   6.8  ...  0.750   \n",
       "..   ...               ...  ..  ...  ...  ..  ..   ...  ...   ...  ...    ...   \n",
       "674  535    Thaddeus Young  PF   34  TOR  54   9  14.7  2.0   3.7  ...  0.692   \n",
       "675  536        Trae Young  PG   24  ATL  73  73  34.8  8.2  19.0  ...  0.886   \n",
       "676  537    Omer Yurtseven   C   24  MIA   9   0   9.2  1.8   3.0  ...  0.833   \n",
       "677  538       Cody Zeller   C   30  MIA  15   2  14.5  2.5   3.9  ...  0.686   \n",
       "678  539       Ivica Zubac   C   25  LAC  76  76  28.6  4.3   6.8  ...  0.697   \n",
       "\n",
       "     ORB  DRB   TRB   AST  STL  BLK  TOV   PF   PTS  \n",
       "0    1.8  4.1   6.0   0.9  0.6  0.5  1.1  1.9   9.2  \n",
       "1    5.1  6.5  11.5   2.3  0.9  1.1  1.9  2.3   8.6  \n",
       "2    2.5  6.7   9.2   3.2  1.2  0.8  2.5  2.8  20.4  \n",
       "3    0.7  1.3   2.1   1.1  0.3  0.3  0.7  1.7   7.9  \n",
       "4    1.1  3.7   4.8   1.3  0.6  0.6  0.8  1.9   9.0  \n",
       "..   ...  ...   ...   ...  ...  ...  ...  ...   ...  \n",
       "674  1.3  1.8   3.1   1.4  1.0  0.1  0.8  1.6   4.4  \n",
       "675  0.8  2.2   3.0  10.2  1.1  0.1  4.1  1.4  26.2  \n",
       "676  0.9  1.7   2.6   0.2  0.2  0.2  0.4  1.8   4.4  \n",
       "677  1.7  2.6   4.3   0.7  0.2  0.3  0.9  2.2   6.5  \n",
       "678  3.1  6.8   9.9   1.0  0.4  1.3  1.5  2.9  10.8  \n",
       "\n",
       "[679 rows x 30 columns]"
      ]
     },
     "execution_count": 14,
     "metadata": {},
     "output_type": "execute_result"
    }
   ],
   "source": [
    "nba = pd.read_csv('/Users/z2271499/Downloads/nba/regularSeason.csv')\n",
    "nba"
   ]
  },
  {
   "cell_type": "code",
   "execution_count": 15,
   "metadata": {},
   "outputs": [
    {
     "data": {
      "text/html": [
       "<div>\n",
       "<style scoped>\n",
       "    .dataframe tbody tr th:only-of-type {\n",
       "        vertical-align: middle;\n",
       "    }\n",
       "\n",
       "    .dataframe tbody tr th {\n",
       "        vertical-align: top;\n",
       "    }\n",
       "\n",
       "    .dataframe thead th {\n",
       "        text-align: right;\n",
       "    }\n",
       "</style>\n",
       "<table border=\"1\" class=\"dataframe\">\n",
       "  <thead>\n",
       "    <tr style=\"text-align: right;\">\n",
       "      <th></th>\n",
       "      <th>Player</th>\n",
       "      <th>Pos</th>\n",
       "      <th>FG%</th>\n",
       "      <th>PTS</th>\n",
       "    </tr>\n",
       "  </thead>\n",
       "  <tbody>\n",
       "    <tr>\n",
       "      <th>0</th>\n",
       "      <td>Precious Achiuwa</td>\n",
       "      <td>C</td>\n",
       "      <td>0.485</td>\n",
       "      <td>9.2</td>\n",
       "    </tr>\n",
       "    <tr>\n",
       "      <th>1</th>\n",
       "      <td>Steven Adams</td>\n",
       "      <td>C</td>\n",
       "      <td>0.597</td>\n",
       "      <td>8.6</td>\n",
       "    </tr>\n",
       "    <tr>\n",
       "      <th>2</th>\n",
       "      <td>Bam Adebayo</td>\n",
       "      <td>C</td>\n",
       "      <td>0.540</td>\n",
       "      <td>20.4</td>\n",
       "    </tr>\n",
       "    <tr>\n",
       "      <th>3</th>\n",
       "      <td>Ochai Agbaji</td>\n",
       "      <td>SG</td>\n",
       "      <td>0.427</td>\n",
       "      <td>7.9</td>\n",
       "    </tr>\n",
       "    <tr>\n",
       "      <th>4</th>\n",
       "      <td>Santi Aldama</td>\n",
       "      <td>PF</td>\n",
       "      <td>0.470</td>\n",
       "      <td>9.0</td>\n",
       "    </tr>\n",
       "    <tr>\n",
       "      <th>...</th>\n",
       "      <td>...</td>\n",
       "      <td>...</td>\n",
       "      <td>...</td>\n",
       "      <td>...</td>\n",
       "    </tr>\n",
       "    <tr>\n",
       "      <th>674</th>\n",
       "      <td>Thaddeus Young</td>\n",
       "      <td>PF</td>\n",
       "      <td>0.545</td>\n",
       "      <td>4.4</td>\n",
       "    </tr>\n",
       "    <tr>\n",
       "      <th>675</th>\n",
       "      <td>Trae Young</td>\n",
       "      <td>PG</td>\n",
       "      <td>0.429</td>\n",
       "      <td>26.2</td>\n",
       "    </tr>\n",
       "    <tr>\n",
       "      <th>676</th>\n",
       "      <td>Omer Yurtseven</td>\n",
       "      <td>C</td>\n",
       "      <td>0.593</td>\n",
       "      <td>4.4</td>\n",
       "    </tr>\n",
       "    <tr>\n",
       "      <th>677</th>\n",
       "      <td>Cody Zeller</td>\n",
       "      <td>C</td>\n",
       "      <td>0.627</td>\n",
       "      <td>6.5</td>\n",
       "    </tr>\n",
       "    <tr>\n",
       "      <th>678</th>\n",
       "      <td>Ivica Zubac</td>\n",
       "      <td>C</td>\n",
       "      <td>0.634</td>\n",
       "      <td>10.8</td>\n",
       "    </tr>\n",
       "  </tbody>\n",
       "</table>\n",
       "<p>679 rows × 4 columns</p>\n",
       "</div>"
      ],
      "text/plain": [
       "               Player Pos    FG%   PTS\n",
       "0    Precious Achiuwa   C  0.485   9.2\n",
       "1        Steven Adams   C  0.597   8.6\n",
       "2         Bam Adebayo   C  0.540  20.4\n",
       "3        Ochai Agbaji  SG  0.427   7.9\n",
       "4        Santi Aldama  PF  0.470   9.0\n",
       "..                ...  ..    ...   ...\n",
       "674    Thaddeus Young  PF  0.545   4.4\n",
       "675        Trae Young  PG  0.429  26.2\n",
       "676    Omer Yurtseven   C  0.593   4.4\n",
       "677       Cody Zeller   C  0.627   6.5\n",
       "678       Ivica Zubac   C  0.634  10.8\n",
       "\n",
       "[679 rows x 4 columns]"
      ]
     },
     "execution_count": 15,
     "metadata": {},
     "output_type": "execute_result"
    }
   ],
   "source": [
    "nbaPPG_FG = nba.iloc[:, [1,2,10,29]]\n",
    "nbaPPG_FG"
   ]
  },
  {
   "cell_type": "code",
   "execution_count": 16,
   "metadata": {},
   "outputs": [
    {
     "data": {
      "text/plain": [
       "(679, 4)"
      ]
     },
     "execution_count": 16,
     "metadata": {},
     "output_type": "execute_result"
    }
   ],
   "source": [
    "nbaPPG_FG.shape"
   ]
  },
  {
   "cell_type": "code",
   "execution_count": 17,
   "metadata": {},
   "outputs": [
    {
     "data": {
      "text/plain": [
       "array([ 9.2,  8.6, 20.4,  7.9,  9. ,  6.2,  6.3,  5.9, 10.4, 14.3,  9. ,\n",
       "        9.4, 31.1,  1.4, 13. , 16.8,  1.3,  0.3,  2.6,  9.2, 18. ,  3.5,\n",
       "       12. ,  3.9, 23.3,  6.6,  7.3,  3.7, 20. , 21.5,  4.6,  3.9, 15. ,\n",
       "       15.3, 19.6,  6.8,  7.7,  4.5,  5.7,  9.7,  6.1,  5.2,  5.4,  4. ,\n",
       "       23.2, 12.7, 13.4, 11.1,  5.1,  4.6,  6.2,  6.4,  5.8, 13.8, 14.8,\n",
       "       11.6,  2.2,  4.4,  3.3,  5.8,  4.3,  1.6, 14. , 21.6,  9.1,  0.4,\n",
       "       27.8,  6.5,  9.4,  5.6,  3. ,  3.8,  0. ,  1.6, 10.2,  5.5,  4.7,\n",
       "       20.1, 17.2, 26.1,  6.1, 14.9, 14.3, 11.5,  1.8, 26.6,  1.5,  4.3,\n",
       "        4.6,  0. ,  0. ,  7.1, 24. ,  9.8, 12.1,  4.6,  7.2, 12.8,  0. ,\n",
       "        6.2, 22.9,  2.4,  5.4, 10.8,  1.3,  5. , 12. ,  0.5,  8. , 15.2,\n",
       "        4.3,  5.6,  9.7,  0. , 11. ,  2.2,  2. ,  2.5,  2.2,  3.1,  5.8,\n",
       "       10. , 20.8, 12.6,  3.4, 13.1, 11.6,  7. , 11.9, 10.7, 14. ,  7.6,\n",
       "        3.8,  6. ,  7.4,  6.9,  4.4, 19.9,  9.2, 29.4,  3.8, 25.9,  5.8,\n",
       "        6.7,  1.6,  3.8,  5.2,  5.7,  3.5,  1.5, 24.5,  2.7,  2.6,  9.3,\n",
       "        3.9,  4.9, 17.3, 17.7, 16.5,  9.4, 32.4,  3. , 13.7,  8.6,  0.5,\n",
       "        2.4,  1.4,  6.3,  6.4,  5.6,  6. ,  7.9,  3.7, 13.2, 29.1, 29.7,\n",
       "       26. ,  9.1,  9.3, 24.6,  2.8,  1.1,  3.9,  1.5, 33.1,  6.6,  3.9,\n",
       "        4.1,  3.4,  8.3,  9.1,  7.2,  4.6,  6.3,  3.6,  2.3,  0. ,  6.1,\n",
       "       25. , 14. ,  5.5,  9. , 21.6,  3. ,  6.5,  5.2, 23.8,  3.4, 16.6,\n",
       "       31.4,  3.3,  3. , 13.4,  6.6, 16.3, 12.4, 13.1, 11. ,  7.4,  5.3,\n",
       "       13. , 20.5, 16. ,  4.4,  5.5,  3. ,  6.5,  8.5, 22.1,  6.4,  5.2,\n",
       "        7.8,  9.1,  8.9,  4.1, 11.3, 11.2, 13. ,  9.6, 20.7,  3.1,  6.4,\n",
       "        5.7,  7.3, 14.4, 21. ,  8.8,  2.2,  5.6,  8.3,  7.6,  4.1, 14.7,\n",
       "        8.8,  9.8,  9.5, 10.2,  5. ,  3.9,  6.4,  5. , 10.3, 14.7,  2.9,\n",
       "        6.9, 20.1, 16.8,  4.4,  5. ,  5. ,  5.2,  1. ,  3.9, 19.3,  4.5,\n",
       "        4.5,  4.4,  3.1,  9.8, 10.7,  4.8,  3.8,  1.8, 15.2,  7.3, 15.4,\n",
       "       11.8, 12.1, 10.8,  4.1,  2.1,  6.9, 24.7, 27.1, 27.1, 27. ,  5. ,\n",
       "       16.3,  0. ,  7.2, 18.6,  0.9,  6.2, 10.2, 10.9,  7.9, 28.9,  6.9,\n",
       "        9.5,  1.8, 15.5, 13.9, 16.6,  5.6,  2.8, 22. ,  4.7,  5.8, 24.5,\n",
       "        2.9,  3.5,  2.5,  4.6,  5. ,  9.8,  3.4, 12.9, 10.3,  5.1,  6.9,\n",
       "        5.5,  4.8,  1.5,  2.5,  2.7,  1.8,  1. ,  9.3,  7.8, 11.3,  9.2,\n",
       "        1.3, 20. , 11.1,  5.9,  3.7,  6.6,  5.6,  8.5,  3.1,  5.1,  3.8,\n",
       "        3.8,  1.2,  9.9, 21.2,  6.7,  6.6,  6.9,  3. , 24.8,  3.7,  2. ,\n",
       "        3.9,  8.2,  6. ,  3. ,  6.3,  1.7, 23.8,  4.8, 12.1,  4.6, 32.2,\n",
       "        6.6,  6.7,  5. ,  7. , 15.9,  3. ,  8.2,  8.5,  7.7, 11.2,  7.6,\n",
       "        6.7,  6.1,  2.4, 10.8,  8.8,  7.7,  3.3, 25.6,  9.1,  9.6,  5. ,\n",
       "       12.7,  1.3,  4.8,  4.8,  4.8, 16.7,  3.4, 20.3, 15.3,  3.5, 12.5,\n",
       "       20.9,  8.7, 12.1,  9.4, 10.6,  6.7, 10.2,  4.4,  5.3,  5.7,  3.7,\n",
       "       10.1,  5. ,  4.9, 15.1,  6.2,  8.4,  4.3,  3.1,  5.6, 28.3, 16.2,\n",
       "        2.4,  1. , 13.5,  4.8,  1.8,  1.4, 26.2, 11.2,  3.8,  3.6,  4.5,\n",
       "       10.3, 14.5, 20.5, 20. , 12.2,  6.1,  6.2,  5.9,  6.9,  1.6, 10.6,\n",
       "        6.8,  9.5, 10.1,  3.3,  8.2,  4. ,  5.2,  2.1,  2.3,  1. , 10.8,\n",
       "        2.9,  7.1,  6.7,  7.5, 13.3,  8.7,  6. , 13. ,  8.8,  4.7,  7.3,\n",
       "        9.9,  6.4,  1.3, 10.7, 12.5,  7. ,  4.9,  9.7,  8.7, 20.3, 13.9,\n",
       "       10.3,  4.6,  4.1,  5.7,  2.4,  2.3, 10.8, 12.2,  7.5, 12.5, 12.1,\n",
       "       13.1,  8.1, 20.4, 19.2, 17.4,  5.5, 14.1, 23.2,  3.4,  6.7, 17. ,\n",
       "        2.9,  7. ,  9.1,  5.6,  3. ,  2.4, 14.9,  2.5, 25.1, 13. ,  9.7,\n",
       "        8.4, 11. ,  2.1,  2.3,  1. ,  4.2, 11.5,  3.2,  8.2, 10.1, 11.5,\n",
       "        7.5,  4.9,  6.4,  7.4,  3.7,  6.8,  4.1,  6.7,  1.9,  5.6,  8.3,\n",
       "        8. ,  9. , 21.1,  5.2, 17.8, 17.9, 17.4,  3.6,  3.9,  3.4, 19.1,\n",
       "        9.9,  6.4,  5.8,  7.4,  4. ,  1.5,  4.2, 12.6,  6.5,  0.8, 14.8,\n",
       "       14.3,  8.7,  4.7,  9.9, 24.2,  2. ,  6.9,  1. ,  0.9, 21.1,  3.4,\n",
       "       11.5,  8.8,  2.9,  2.2,  3.3,  2.5, 12.8,  9.4,  4.3, 11. ,  2.6,\n",
       "        5.3, 11.3, 11.5,  9.9,  7.1,  1.3,  9.1, 30.1,  2.9,  2.7,  4. ,\n",
       "        2. ,  2.2,  7. , 10.6, 21.9,  3.8,  4.1,  2.7,  7.4,  7. ,  1.5,\n",
       "        7.4,  3. ,  2.7,  3.4, 20.8, 17.4,  3.5, 18. ,  2. , 14.1,  7.9,\n",
       "        8.3,  7.2, 19.3, 18.5,  9.4,  1.1, 17.6,  4.7, 18.6, 10.5,  4.2,\n",
       "        3.9,  8. , 11.7, 11.4,  7.5,  9.5,  4.2,  7.9, 15.7,  4.7,  5.6,\n",
       "        5.2,  7.4,  3.3,  5. , 15.9, 15.9, 15.8,  9.7, 12.4,  1.2,  1. ,\n",
       "        6.8, 17.1,  7.1,  0. ,  2. ,  8.1, 14.1,  5.9, 10.6,  8. ,  9. ,\n",
       "       10.2,  8. ,  2. ,  5.7, 26. ,  1.7,  6.8, 10. ,  6.9, 12.7, 16.6,\n",
       "        7.4,  4.2,  8. ,  4.4, 26.2,  4.4,  6.5, 10.8])"
      ]
     },
     "execution_count": 17,
     "metadata": {},
     "output_type": "execute_result"
    }
   ],
   "source": [
    "points = nbaPPG_FG['PTS'].to_numpy()\n",
    "points"
   ]
  },
  {
   "cell_type": "code",
   "execution_count": 18,
   "metadata": {},
   "outputs": [
    {
     "data": {
      "text/plain": [
       "array([0.485, 0.597, 0.54 , 0.427, 0.47 , 0.444, 0.488, 0.384, 0.44 ,\n",
       "       0.644, 0.411, 0.509, 0.553, 0.435, 0.454, 0.476, 0.243, 0.2  ,\n",
       "       0.25 , 0.437, 0.589, 0.819, 0.529, 0.394, 0.411, 0.485, 0.495,\n",
       "       0.407, 0.427, 0.479, 0.423, 0.535, 0.473, 0.456, 0.434, 0.379,\n",
       "       0.386, 0.354, 0.644, 0.508, 0.42 , 0.454, 0.449, 0.48 , 0.506,\n",
       "       0.395, 0.396, 0.392, 0.395, 0.431, 0.4  , 0.402, 0.395, 0.422,\n",
       "       0.404, 0.47 , 0.594, 0.552, 0.519, 0.575, 0.578, 0.185, 0.447,\n",
       "       0.488, 0.546, 0.15 , 0.494, 0.418, 0.493, 0.358, 0.429, 0.462,\n",
       "       0.   , 0.5  , 0.44 , 0.571, 0.495, 0.468, 0.463, 0.475, 0.386,\n",
       "       0.484, 0.396, 0.483, 0.393, 0.491, 0.571, 0.635, 0.635, 0.   ,\n",
       "       0.   , 0.43 , 0.491, 0.623, 0.654, 0.485, 0.409, 0.436, 0.   ,\n",
       "       0.469, 0.539, 0.321, 0.561, 0.462, 0.231, 0.476, 0.653, 0.25 ,\n",
       "       0.423, 0.525, 0.429, 0.455, 0.454, 0.   , 0.461, 0.333, 1.   ,\n",
       "       0.167, 0.422, 0.415, 0.465, 0.656, 0.444, 0.705, 0.386, 0.508,\n",
       "       0.518, 0.6  , 0.428, 0.408, 0.46 , 0.392, 0.607, 0.445, 0.456,\n",
       "       0.479, 0.395, 0.415, 0.463, 0.493, 0.418, 0.563, 0.386, 0.423,\n",
       "       0.421, 0.417, 0.51 , 0.496, 0.591, 0.34 , 0.504, 0.511, 0.48 ,\n",
       "       0.573, 0.385, 0.42 , 0.438, 0.455, 0.404, 0.435, 0.496, 0.8  ,\n",
       "       0.388, 0.493, 0.1  , 0.439, 0.303, 0.421, 0.425, 0.389, 0.606,\n",
       "       0.369, 0.462, 0.537, 0.56 , 0.559, 0.57 , 0.648, 0.448, 0.459,\n",
       "       0.387, 0.25 , 0.435, 0.438, 0.548, 0.641, 0.527, 0.516, 0.579,\n",
       "       0.391, 0.416, 0.351, 0.36 , 0.369, 0.361, 0.417, 0.   , 0.337,\n",
       "       0.512, 0.514, 0.596, 0.732, 0.462, 0.486, 0.543, 0.38 , 0.457,\n",
       "       0.52 , 0.482, 0.51 , 0.538, 0.333, 0.659, 0.448, 0.564, 0.446,\n",
       "       0.439, 0.463, 0.374, 0.368, 0.38 , 0.475, 0.5  , 0.424, 0.449,\n",
       "       0.273, 0.5  , 0.527, 0.416, 0.54 , 0.565, 0.488, 0.537, 0.465,\n",
       "       0.485, 0.468, 0.486, 0.488, 0.485, 0.49 , 0.321, 0.43 , 0.439,\n",
       "       0.423, 0.401, 0.441, 0.438, 0.5  , 0.598, 0.45 , 0.457, 0.439,\n",
       "       0.501, 0.417, 0.529, 0.504, 0.586, 0.535, 0.345, 0.455, 0.551,\n",
       "       0.377, 0.475, 0.421, 0.527, 0.439, 0.458, 0.431, 0.47 , 0.447,\n",
       "       0.559, 0.5  , 0.418, 0.479, 0.377, 0.384, 0.367, 0.618, 0.476,\n",
       "       0.419, 0.472, 0.363, 0.222, 0.485, 0.6  , 0.461, 0.399, 0.399,\n",
       "       0.401, 0.481, 0.467, 0.435, 0.484, 0.494, 0.486, 0.51 , 0.415,\n",
       "       0.416, 0.   , 0.563, 0.506, 0.259, 0.452, 0.411, 0.418, 0.383,\n",
       "       0.5  , 0.488, 0.441, 0.5  , 0.47 , 0.474, 0.468, 0.491, 0.449,\n",
       "       0.452, 0.376, 0.533, 0.632, 0.4  , 0.64 , 0.541, 0.714, 0.5  ,\n",
       "       0.469, 0.558, 0.459, 0.438, 0.765, 0.427, 0.406, 0.337, 0.286,\n",
       "       0.492, 0.568, 0.316, 0.25 , 0.492, 0.464, 0.526, 0.72 , 1.   ,\n",
       "       0.615, 0.497, 0.456, 0.568, 0.458, 0.469, 0.444, 0.48 , 0.431,\n",
       "       0.432, 0.665, 0.405, 0.525, 0.448, 0.471, 0.528, 0.467, 0.389,\n",
       "       0.485, 0.5  , 1.   , 0.488, 0.442, 0.405, 0.75 , 0.393, 0.533,\n",
       "       0.512, 0.483, 0.431, 0.455, 0.463, 0.442, 0.417, 0.527, 0.63 ,\n",
       "       0.531, 0.64 , 0.389, 0.389, 0.388, 0.404, 0.458, 0.402, 0.422,\n",
       "       0.328, 0.453, 0.519, 0.393, 0.683, 0.499, 0.433, 0.464, 0.389,\n",
       "       0.569, 0.391, 0.363, 0.353, 0.419, 0.434, 0.363, 0.481, 0.5  ,\n",
       "       0.358, 0.45 , 0.437, 0.543, 0.517, 0.455, 0.447, 0.488, 0.457,\n",
       "       0.64 , 0.396, 0.408, 0.421, 0.425, 0.409, 0.589, 0.436, 0.411,\n",
       "       0.479, 0.304, 0.5  , 0.454, 0.484, 0.554, 0.429, 0.5  , 0.448,\n",
       "       0.476, 0.333, 0.419, 0.466, 0.426, 0.409, 0.402, 0.424, 0.48 ,\n",
       "       0.484, 0.464, 0.454, 0.453, 0.449, 0.438, 0.472, 0.445, 0.5  ,\n",
       "       0.441, 0.61 , 0.441, 0.427, 0.518, 0.442, 0.342, 0.561, 0.361,\n",
       "       0.4  , 0.167, 0.448, 0.364, 0.424, 0.406, 0.447, 0.519, 0.436,\n",
       "       0.386, 0.476, 0.386, 0.352, 0.391, 0.638, 0.494, 0.421, 0.397,\n",
       "       0.499, 0.443, 0.468, 0.425, 0.451, 0.431, 0.44 , 0.415, 0.594,\n",
       "       0.585, 0.607, 0.356, 0.333, 0.68 , 0.669, 0.727, 0.629, 0.616,\n",
       "       0.652, 0.434, 0.43 , 0.442, 0.487, 0.5  , 0.496, 0.498, 0.667,\n",
       "       0.732, 0.479, 0.439, 0.346, 0.467, 0.412, 0.241, 0.667, 0.448,\n",
       "       0.4  , 0.459, 0.529, 0.446, 0.449, 0.443, 0.333, 0.313, 0.75 ,\n",
       "       0.593, 0.537, 0.386, 0.629, 0.431, 0.436, 0.419, 0.435, 0.371,\n",
       "       0.671, 0.528, 0.444, 0.432, 0.429, 0.35 , 0.384, 0.43 , 0.431,\n",
       "       0.428, 0.415, 0.343, 0.469, 0.465, 0.484, 0.37 , 0.306, 0.424,\n",
       "       0.615, 0.456, 0.458, 0.427, 0.515, 0.5  , 0.5  , 0.451, 0.415,\n",
       "       0.714, 0.4  , 0.553, 0.506, 0.377, 0.544, 0.472, 0.48 , 1.   ,\n",
       "       0.566, 0.167, 0.286, 0.447, 0.776, 0.415, 0.412, 0.4  , 0.357,\n",
       "       0.419, 0.397, 0.408, 0.476, 0.5  , 0.453, 0.486, 0.448, 0.442,\n",
       "       0.41 , 0.419, 0.461, 0.333, 0.48 , 0.466, 0.52 , 0.462, 0.9  ,\n",
       "       0.4  , 0.444, 0.477, 0.441, 0.436, 0.399, 0.435, 0.431, 0.438,\n",
       "       0.614, 0.158, 0.446, 0.448, 0.5  , 0.403, 0.495, 0.433, 0.427,\n",
       "       0.548, 0.   , 0.547, 0.548, 0.556, 0.529, 0.393, 0.439, 0.402,\n",
       "       0.458, 0.52 , 0.412, 0.485, 0.5  , 0.37 , 0.419, 0.421, 0.448,\n",
       "       0.408, 0.489, 0.51 , 0.429, 0.367, 0.444, 0.363, 0.491, 0.393,\n",
       "       0.56 , 0.492, 0.321, 0.436, 0.417, 0.489, 0.443, 0.462, 0.421,\n",
       "       0.214, 0.512, 0.473, 0.486, 0.   , 0.4  , 0.454, 0.521, 0.436,\n",
       "       0.615, 0.517, 0.637, 0.464, 0.747, 0.3  , 0.429, 0.608, 0.667,\n",
       "       0.409, 0.558, 0.628, 0.531, 0.515, 0.474, 0.469, 0.381, 0.545,\n",
       "       0.429, 0.593, 0.627, 0.634])"
      ]
     },
     "execution_count": 18,
     "metadata": {},
     "output_type": "execute_result"
    }
   ],
   "source": [
    "Fg_percentage = nbaPPG_FG['FG%'].to_numpy()\n",
    "Fg_percentage"
   ]
  },
  {
   "cell_type": "code",
   "execution_count": 19,
   "metadata": {},
   "outputs": [
    {
     "data": {
      "image/png": "[encoded data removed]",
      "text/plain": [
       "<Figure size 1000x500 with 2 Axes>"
      ]
     },
     "metadata": {},
     "output_type": "display_data"
    }
   ],
   "source": [
    "fig, (ax1, ax2) = plt.subplots(1, 2, figsize=(10, 5))\n",
    "ax1.set_title(\"Points per Game\")\n",
    "ax1.plot(points, 'o', color='blue')\n",
    "ax2.set_title(\"Field Goal Percentage\")\n",
    "ax2.plot(Fg_percentage, 'o', color='red')\n",
    "\n",
    "plt.show()"
   ]
  },
  {
   "cell_type": "code",
   "execution_count": 20,
   "metadata": {},
   "outputs": [],
   "source": [
    "X = points.reshape(-1, 1)\n",
    "y = Fg_percentage.reshape(-1, 1)"
   ]
  },
  {
   "cell_type": "code",
   "execution_count": 21,
   "metadata": {},
   "outputs": [],
   "source": [
    "y_binary = (y > 0.4).astype(int)"
   ]
  },
  {
   "cell_type": "code",
   "execution_count": 23,
   "metadata": {},
   "outputs": [
    {
     "name": "stderr",
     "output_type": "stream",
     "text": [
      "/Users/z2271499/Library/Python/3.11/lib/python/site-packages/sklearn/utils/validation.py:1143: DataConversionWarning: A column-vector y was passed when a 1d array was expected. Please change the shape of y to (n_samples, ), for example using ravel().\n",
      "  y = column_or_1d(y, warn=True)\n"
     ]
    },
    {
     "data": {
      "text/html": [
       "<style>#sk-container-id-1 {color: black;background-color: white;}#sk-container-id-1 pre{padding: 0;}#sk-container-id-1 div.sk-toggleable {background-color: white;}#sk-container-id-1 label.sk-toggleable__label {cursor: pointer;display: block;width: 100%;margin-bottom: 0;padding: 0.3em;box-sizing: border-box;text-align: center;}#sk-container-id-1 label.sk-toggleable__label-arrow:before {content: \"▸\";float: left;margin-right: 0.25em;color: #696969;}#sk-container-id-1 label.sk-toggleable__label-arrow:hover:before {color: black;}#sk-container-id-1 div.sk-estimator:hover label.sk-toggleable__label-arrow:before {color: black;}#sk-container-id-1 div.sk-toggleable__content {max-height: 0;max-width: 0;overflow: hidden;text-align: left;background-color: #f0f8ff;}#sk-container-id-1 div.sk-toggleable__content pre {margin: 0.2em;color: black;border-radius: 0.25em;background-color: #f0f8ff;}#sk-container-id-1 input.sk-toggleable__control:checked~div.sk-toggleable__content {max-height: 200px;max-width: 100%;overflow: auto;}#sk-container-id-1 input.sk-toggleable__control:checked~label.sk-toggleable__label-arrow:before {content: \"▾\";}#sk-container-id-1 div.sk-estimator input.sk-toggleable__control:checked~label.sk-toggleable__label {background-color: #d4ebff;}#sk-container-id-1 div.sk-label input.sk-toggleable__control:checked~label.sk-toggleable__label {background-color: #d4ebff;}#sk-container-id-1 input.sk-hidden--visually {border: 0;clip: rect(1px 1px 1px 1px);clip: rect(1px, 1px, 1px, 1px);height: 1px;margin: -1px;overflow: hidden;padding: 0;position: absolute;width: 1px;}#sk-container-id-1 div.sk-estimator {font-family: monospace;background-color: #f0f8ff;border: 1px dotted black;border-radius: 0.25em;box-sizing: border-box;margin-bottom: 0.5em;}#sk-container-id-1 div.sk-estimator:hover {background-color: #d4ebff;}#sk-container-id-1 div.sk-parallel-item::after {content: \"\";width: 100%;border-bottom: 1px solid gray;flex-grow: 1;}#sk-container-id-1 div.sk-label:hover label.sk-toggleable__label {background-color: #d4ebff;}#sk-container-id-1 div.sk-serial::before {content: \"\";position: absolute;border-left: 1px solid gray;box-sizing: border-box;top: 0;bottom: 0;left: 50%;z-index: 0;}#sk-container-id-1 div.sk-serial {display: flex;flex-direction: column;align-items: center;background-color: white;padding-right: 0.2em;padding-left: 0.2em;position: relative;}#sk-container-id-1 div.sk-item {position: relative;z-index: 1;}#sk-container-id-1 div.sk-parallel {display: flex;align-items: stretch;justify-content: center;background-color: white;position: relative;}#sk-container-id-1 div.sk-item::before, #sk-container-id-1 div.sk-parallel-item::before {content: \"\";position: absolute;border-left: 1px solid gray;box-sizing: border-box;top: 0;bottom: 0;left: 50%;z-index: -1;}#sk-container-id-1 div.sk-parallel-item {display: flex;flex-direction: column;z-index: 1;position: relative;background-color: white;}#sk-container-id-1 div.sk-parallel-item:first-child::after {align-self: flex-end;width: 50%;}#sk-container-id-1 div.sk-parallel-item:last-child::after {align-self: flex-start;width: 50%;}#sk-container-id-1 div.sk-parallel-item:only-child::after {width: 0;}#sk-container-id-1 div.sk-dashed-wrapped {border: 1px dashed gray;margin: 0 0.4em 0.5em 0.4em;box-sizing: border-box;padding-bottom: 0.4em;background-color: white;}#sk-container-id-1 div.sk-label label {font-family: monospace;font-weight: bold;display: inline-block;line-height: 1.2em;}#sk-container-id-1 div.sk-label-container {text-align: center;}#sk-container-id-1 div.sk-container {/* jupyter's `normalize.less` sets `[hidden] { display: none; }` but bootstrap.min.css set `[hidden] { display: none !important; }` so we also need the `!important` here to be able to override the default hidden behavior on the sphinx rendered scikit-learn.org. See: https://github.com/scikit-learn/scikit-learn/issues/21755 */display: inline-block !important;position: relative;}#sk-container-id-1 div.sk-text-repr-fallback {display: none;}</style><div id=\"sk-container-id-1\" class=\"sk-top-container\"><div class=\"sk-text-repr-fallback\"><pre>LogisticRegression()</pre><b>In a Jupyter environment, please rerun this cell to show the HTML representation or trust the notebook. <br />On GitHub, the HTML representation is unable to render, please try loading this page with nbviewer.org.</b></div><div class=\"sk-container\" hidden><div class=\"sk-item\"><div class=\"sk-estimator sk-toggleable\"><input class=\"sk-toggleable__control sk-hidden--visually\" id=\"sk-estimator-id-1\" type=\"checkbox\" checked><label for=\"sk-estimator-id-1\" class=\"sk-toggleable__label sk-toggleable__label-arrow\">LogisticRegression</label><div class=\"sk-toggleable__content\"><pre>LogisticRegression()</pre></div></div></div></div></div>"
      ],
      "text/plain": [
       "LogisticRegression()"
      ]
     },
     "execution_count": 23,
     "metadata": {},
     "output_type": "execute_result"
    }
   ],
   "source": [
    "X_train, X_test, y_train, y_test = train_test_split(X, y_binary, test_size=0.2, random_state=42)\n",
    "logreg = LogisticRegression()\n",
    "logreg.fit(X_train, y_train)"
   ]
  },
  {
   "cell_type": "code",
   "execution_count": 25,
   "metadata": {},
   "outputs": [],
   "source": [
    "y_pred = logreg.predict(X_test)\n",
    "threshold_line = np.array([0.4] * len(X_test))"
   ]
  },
  {
   "cell_type": "code",
   "execution_count": 35,
   "metadata": {},
   "outputs": [
    {
     "data": {
      "text/plain": [
       "Text(0.5, 1.0, 'Classification Model')"
      ]
     },
     "execution_count": 35,
     "metadata": {},
     "output_type": "execute_result"
    },
    {
     "data": {
      "image/png": "[encoded data removed]",
      "text/plain": [
       "<Figure size 500x500 with 1 Axes>"
      ]
     },
     "metadata": {},
     "output_type": "display_data"
    }
   ],
   "source": [
    "plt.figure(figsize=(5, 5))\n",
    "plt.scatter(X_test, y_test, color='blue', label='Actual')\n",
    "plt.scatter(X_test, y_pred, color='red', marker='x', label='Predicted')\n",
    "plt.plot(X_test, threshold_line, color='green', label='Threshold')\n",
    "plt.xlabel('Points per Game')\n",
    "plt.ylabel('Field Goal Percentage')\n",
    "plt.title('Classification Model')\n"
   ]
  },
  {
   "cell_type": "code",
   "execution_count": 34,
   "metadata": {},
   "outputs": [
    {
     "name": "stdout",
     "output_type": "stream",
     "text": [
      "Number of players averaging over 25 points with a field goal percentage over 40%: 104\n",
      "Number of players averaging over 25 points with a field goal percentage under 40%: 32\n"
     ]
    }
   ],
   "source": [
    "players_above_threshold = (y_test == 1).sum()\n",
    "print(\"Number of players averaging over 25 points with a field goal percentage over 40%:\", players_above_threshold)\n",
    "players_under_threshold = (y_test == 0).sum()\n",
    "print(\"Number of players averaging over 25 points with a field goal percentage under 40%:\", players_under_threshold)"
   ]
  },
  {
   "cell_type": "code",
   "execution_count": 60,
   "metadata": {},
   "outputs": [
    {
     "name": "stdout",
     "output_type": "stream",
     "text": [
      "The average field goal percentage by position is:\n",
      " Pos\n",
      "C        0.550380\n",
      "PF       0.476991\n",
      "PF-SF    0.502333\n",
      "PG       0.417837\n",
      "SF       0.448928\n",
      "SF-SG    0.529000\n",
      "SG       0.428786\n",
      "SG-PG    0.424000\n",
      "Name: FG%, dtype: float64\n"
     ]
    }
   ],
   "source": [
    "position_fg_percentage = nba.groupby('Pos')['FG%'].mean()\n",
    "print(\"The average field goal percentage by position is:\\n\", position_fg_percentage)"
   ]
  },
  {
   "cell_type": "code",
   "execution_count": 59,
   "metadata": {},
   "outputs": [
    {
     "data": {
      "image/png": "[encoded data removed]",
      "text/plain": [
       "<Figure size 1000x500 with 1 Axes>"
      ]
     },
     "metadata": {},
     "output_type": "display_data"
    }
   ],
   "source": [
    "#create a bar chart to show the average field goal percentage by position\n",
    "plt.figure(figsize=(10, 5))\n",
    "plt.bar(position_fg_percentage.index, position_fg_percentage.values, color='magenta', alpha=0.5)\n",
    "plt.xlabel('Position')\n",
    "plt.ylabel('Field Goal Percentage')\n",
    "plt.title('Average Field Goal Percentage by Position')\n",
    "plt.xticks(rotation=45)\n",
    "plt.ylim(0, 0.7)\n",
    "plt.plot(position_fg_percentage.index, position_fg_percentage.values, color='green', marker='o', linestyle='dashed', linewidth=2, markersize=12)\n",
    "plt.show()\n",
    "    "
   ]
  },
  {
   "cell_type": "code",
   "execution_count": 64,
   "metadata": {},
   "outputs": [
    {
     "name": "stdout",
     "output_type": "stream",
     "text": [
      "the position with the highest average field goal percentage are: C with an average field goal percentage of: 0.5503798449612403\n",
      "the position with the lowest average field goal percentage are: PG with an average field goal percentage of: 0.41783703703703706\n"
     ]
    }
   ],
   "source": [
    "print(\"the position with the highest average field goal percentage are:\", position_fg_percentage.idxmax(), \"with an average field goal percentage of:\", position_fg_percentage.max())\n",
    "print(\"the position with the lowest average field goal percentage are:\", position_fg_percentage.idxmin(), \"with an average field goal percentage of:\", position_fg_percentage.min())"
   ]
  },
  {
   "cell_type": "code",
   "execution_count": 66,
   "metadata": {},
   "outputs": [
    {
     "name": "stdout",
     "output_type": "stream",
     "text": [
      "The average points per game by position is:\n",
      " Pos\n",
      "C         7.944186\n",
      "PF        8.840171\n",
      "PF-SF    14.400000\n",
      "PG        9.935556\n",
      "SF        8.828800\n",
      "SF-SG     9.800000\n",
      "SG        8.636905\n",
      "SG-PG     7.100000\n",
      "Name: PTS, dtype: float64\n"
     ]
    }
   ],
   "source": [
    "# find the position with the highest average points per game\n",
    "position_ppg = nba.groupby('Pos')['PTS'].mean()\n",
    "print(\"The average points per game by position is:\\n\", position_ppg)"
   ]
  },
  {
   "cell_type": "code",
   "execution_count": 67,
   "metadata": {},
   "outputs": [
    {
     "name": "stdout",
     "output_type": "stream",
     "text": [
      "the position with the highest average points per game are: PF-SF with an average points per game of: 14.4\n",
      "the position with the lowest average points per game are: SG-PG with an average points per game of: 7.1\n"
     ]
    }
   ],
   "source": [
    "print(\"the position with the highest average points per game are:\", position_ppg.idxmax(), \"with an average points per game of:\", position_ppg.max())\n",
    "print(\"the position with the lowest average points per game are:\", position_ppg.idxmin(), \"with an average points per game of:\", position_ppg.min())"
   ]
  }
 ],
 "metadata": {
  "kernelspec": {
   "display_name": "Python 3",
   "language": "python",
   "name": "python3"
  },
  "language_info": {
   "codemirror_mode": {
    "name": "ipython",
    "version": 3
   },
   "file_extension": ".py",
   "mimetype": "text/x-python",
   "name": "python",
   "nbconvert_exporter": "python",
   "pygments_lexer": "ipython3",
   "version": "3.11.2"
  },
  "orig_nbformat": 4
 },
 "nbformat": 4,
 "nbformat_minor": 2
}
